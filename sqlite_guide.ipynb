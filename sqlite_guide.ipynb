{
 "cells": [
  {
   "cell_type": "code",
   "execution_count": 4,
   "metadata": {
    "collapsed": false
   },
   "outputs": [],
   "source": [
    "import sqlite3\n",
    "\n",
    "#open a connection to sqlite database of several websites. I created the database with a crawler based on \"Programming \n",
    "#Collective Intelligence\"\n",
    "conn = sqlite3.connect(\"../CollectiveIntelligence/searchengine.db\")\n",
    "c = conn.cursor()\n",
    "\n",
    "conn.commit()    #to commit any changes before we close the connection\n",
    "conn.close()    #once we are finished with the database file, we have to close the connection"
   ]
  },
  {
   "cell_type": "code",
   "execution_count": 8,
   "metadata": {
    "collapsed": false
   },
   "outputs": [],
   "source": [
    "#creating a new sqlite database\n",
    "\n",
    "sqlite_file = 'my_first_db.sqlite'    #name of the sqlite database file\n",
    "table_name1 = 'my_table_1'    #name of the table to be created\n",
    "table_name2 = 'my_table_2'    #name of the table to be created\n",
    "new_field = 'my_1st column'    #name of the column\n",
    "field_type = 'INTEGER'    #column data type\n",
    "\n",
    "#connecting to the database file\n",
    "conn = sqlite3.connect(sqlite_file)\n",
    "c = conn.cursor()   #with the cursor object we can perform execute and other sql commands\n",
    "\n",
    "#creating a new sqlite table with 1 column\n",
    "c.execute('CREATE TABLE {tn} ({nf} {ft})'.format(tn=table_name1, nf=new_field, ft=field_type))\n",
    "\n",
    "#creating a second table with 1 column and set it as PRIMARY KEY\n",
    "c.execute('CREATE TABLE {tn} ({nf} {ft} PRIMARY KEY)'.format(tn=table_name2, nf=new_field, ft=field_type))\n",
    "\n",
    "conn.commit()\n",
    "conn.close()\n",
    "\n"
   ]
  }
 ],
 "metadata": {
  "kernelspec": {
   "display_name": "Python 3",
   "language": "python",
   "name": "python3"
  },
  "language_info": {
   "codemirror_mode": {
    "name": "ipython",
    "version": 3
   },
   "file_extension": ".py",
   "mimetype": "text/x-python",
   "name": "python",
   "nbconvert_exporter": "python",
   "pygments_lexer": "ipython3",
   "version": "3.5.1"
  }
 },
 "nbformat": 4,
 "nbformat_minor": 0
}
